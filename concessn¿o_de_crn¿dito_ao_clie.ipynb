{
 "cells": [
  {
   "cell_type": "markdown",
   "id": "e4187f6d",
   "metadata": {},
   "source": [
    ">**IDENTIFICAÇÃO**: Marcos Aurélio Ramos Melo(2119177)\n",
    "\n",
    ">**TEMA DO PROJETO**\n",
    "\n",
    ">**CLASSIFICAÇÃO DOS DADOS PARA CONCEDER EMPRESTIMO AS PESSOAS CONFORME SUA VIDA SOCIAL**\n",
    "\n",
    "Com os avanços da internet e consequentemente dos dados que são disponibilizados as empresas que lidam com emprestimos e investimentos tem cada vez mais soluçoes para seus clientes.\n",
    "\n",
    "Para ter uma melhor acurácia na hora de conceder emprestimos, as empresas estão usando algoritimos de machine learning para conseguir uma melhor precisão na decisão de conceder crédito ou mesmo indicar o melhor investimento para as pessoas.\n",
    "\n",
    "Com os dados aumentando de forma exponencial, as empresas estão aumentando o seu alcance e conseguindo com isso uma forma de obter mais insights para melhorar as sua bases e ter uma melhor visão para nao ter prejuizos elevados na hora da concessão de crédito.\n",
    "\n",
    ">**OBJETIVO DO PROJETO**\n",
    "\n",
    "Esse projeto tem como objetivo a classificação e acurácia nos dados.\n",
    "\n",
    ">**DADOS TÉCNICOS**\n",
    "\n",
    "Os Dados estão disponíveis no link abaixo:\n",
    "\n",
    ">[Kaggle](https://www.kaggle.com/subhamjain/loan-prediction-based-on-customer-behavior)\n",
    "\n",
    ">**FORMATO DOS DADOS**\n",
    "\n",
    "* Esse dataset está no formato CSV e possui 13 colunas e 252.000 linhas compostas por números e categorias.\n",
    "\n",
    ">**Tarefa de Aprendizado**\n",
    "\n",
    "* Será aplicado tratamento nos dados para saber se tem dados vazios(isnull) , duplicados(duplicated) ou inválidos.\n",
    "* Será feito agrupamento(groupby) dos dados para saber as quantidades de cada coluna e se estão no mesmo padrão.\n",
    "* Caso necessário serão feitas mudanças nos nomes das colunas(columns) que estão em ingles, para que fique mais claro o entendimento e também a exlusão de colunas que não serão necessarias para o projeto.\n",
    "\n",
    ">**Algoritimos de aprendizado que poderão ser usados**\n",
    "\n",
    "* Será usado Classificação dos dados usando os algoritmos necessarios para melhor precisão do resultado através do aprendizado supervisionado.\n",
    "* Matplotlib, sklearn, numpy, pandas, seaborn , estatistica, sabendo que ainda podem ter mudanças no meio do processo de aprendizagem de máquina e usar outros processos alem desses.\n"
   ]
  },
  {
   "cell_type": "code",
   "execution_count": null,
   "id": "4fa37768",
   "metadata": {},
   "outputs": [],
   "source": []
  }
 ],
 "metadata": {
  "kernelspec": {
   "display_name": "Python 3 (ipykernel)",
   "language": "python",
   "name": "python3"
  },
  "language_info": {
   "codemirror_mode": {
    "name": "ipython",
    "version": 3
   },
   "file_extension": ".py",
   "mimetype": "text/x-python",
   "name": "python",
   "nbconvert_exporter": "python",
   "pygments_lexer": "ipython3",
   "version": "3.8.8"
  }
 },
 "nbformat": 4,
 "nbformat_minor": 5
}
